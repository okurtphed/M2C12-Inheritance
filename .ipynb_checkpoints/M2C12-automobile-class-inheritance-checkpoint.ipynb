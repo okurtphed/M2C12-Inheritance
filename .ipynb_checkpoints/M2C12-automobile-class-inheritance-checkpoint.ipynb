{
 "cells": [
  {
   "cell_type": "markdown",
   "metadata": {},
   "source": [
    "We run a car dealership!\n",
    "\n",
    "Currently we will sell Cars, Trucks, and Motobikes.\n",
    "\n",
    "Each vehicle will be represented by a class and contain the following components:\n",
    "\n",
    "-Attributes:\n",
    "**Wheels, Miles driven, Make, Model, Year, Sold On Date**\n",
    "        \n",
    "Methods:\n",
    "\n",
    "Sales price of an automobile to a customer is determined by the equation:  \n",
    "            **$2,000 x number of total wheels**\n",
    "    \n",
    "We also like to give the customer the option of selling vehicles to us;  total buy back for a used vehicle is determined by the equation:\n",
    "            \n",
    "**(flat rate based on the vehicle type) - 10% of the miles driven on vehicle**\n",
    "\n",
    "For the above 'flat rate based on vehicle type, rate is as follows:\n",
    "\n",
    "**Truck: $10,000**\n",
    "\n",
    "**Car: $8,000**\n",
    "\n",
    "**Motobike:  $4,000**"
   ]
  },
  {
   "cell_type": "code",
   "execution_count": 51,
   "metadata": {},
   "outputs": [],
   "source": [
    "#STEP 1\n",
    "class Car(object):\n",
    "    def __init__(self, wheels, miles_driven, make, model, year, sold_on = None):\n",
    "        self.wheels = wheels\n",
    "        self.miles_driven = miles_driven\n",
    "        self.make = make\n",
    "        self.model = model\n",
    "        self.year = year\n",
    "        self.sold_on = sold_on\n",
    "        \n",
    "    def sale_price(self):\n",
    "        if not sold_on:\n",
    "            return 2000*self.wheels\n",
    "        return 'This vehicle is already sold'\n",
    "    \n",
    "    def buyback_price(self):\n",
    "        if not sold_on:\n",
    "            return 'We would like to buy your car for ${}'.format(8000 - .1*self.miles_driven)"
   ]
  },
  {
   "cell_type": "code",
   "execution_count": 52,
   "metadata": {},
   "outputs": [],
   "source": [
    "#STEP 2\n",
    "#Next create Truck class based on the above criteria:\n",
    "class Truck(object):\n",
    "    def __init__(self, wheels, miles_driven, make, model, year, sold_on = None):\n",
    "        self.wheels = wheels\n",
    "        self.miles_driven = miles_driven\n",
    "        self.make = make\n",
    "        self.model = model\n",
    "        self.year = year\n",
    "        self.sold_on = sold_on\n",
    "        \n",
    "    def sale_price(self):\n",
    "        if not sold_on:\n",
    "            return 2000*self.wheels\n",
    "        return 'This vehicle is already sold'\n",
    "    \n",
    "    def buyback_price(self):\n",
    "        if not sold_on:\n",
    "            return 'We would like to buy your car for ${}'.format(8000 - .1*self.miles_driven)"
   ]
  },
  {
   "cell_type": "code",
   "execution_count": 59,
   "metadata": {},
   "outputs": [],
   "source": [
    "#STEP 3\n",
    "#We are repeating our code, could we abstract and consolidate our classes?:\n",
    "class Vehicle(object):\n",
    "    def __init__(self, wheels, miles_driven, make, model, year, flat_rate, sold_on = None):\n",
    "        self.wheels = wheels\n",
    "        self.miles_driven = miles_driven\n",
    "        self.make = make\n",
    "        self.model = model\n",
    "        self.year = year\n",
    "        self.sold_on = sold_on\n",
    "        self.flat_rate = flat_rate\n",
    "        \n",
    "    def sale_price(self):\n",
    "        if not self.sold_on:\n",
    "            return 'Selling price of this vehicel is {}'.format(2000*self.wheels)\n",
    "        return 'This vehicle is already sold!'\n",
    "    \n",
    "    def buyback_price(self):\n",
    "        if not self.sold_on:\n",
    "            return 'We would like to buy your car for ${}'.format(self.flat_rate - .1*self.miles_driven)\n",
    "        return 'It is already sold!!'\n",
    "  \n",
    "class Car(Vehicle):\n",
    "    flat_rate = 8000\n",
    "    \n",
    "class Truck(Truck):\n",
    "    flat_rate = 10000\n",
    "    \n"
   ]
  },
  {
   "cell_type": "code",
   "execution_count": 60,
   "metadata": {},
   "outputs": [],
   "source": [
    "#STEP 4\n",
    "#Now that we have a parent class, let's rewrite Car/Truck classes\n",
    "#with wheels/base_sale_price as Class attributes (remove corresponding\n",
    "#__init__ parameters/attributes from STEP 3 class Vehicle):\n",
    "\n",
    "class Car(Vehicle):\n",
    "    flat_rate = 8000\n",
    "    \n",
    "class Truck(Truck):\n",
    "    flat_rate = 10000\n",
    "    \n"
   ]
  },
  {
   "cell_type": "code",
   "execution_count": 63,
   "metadata": {},
   "outputs": [
    {
     "name": "stdout",
     "output_type": "stream",
     "text": [
      "None\n",
      "Selling price of this vehicel is 8000\n"
     ]
    },
    {
     "data": {
      "text/plain": [
       "'We would like to buy your car for $4500.0'"
      ]
     },
     "execution_count": 63,
     "metadata": {},
     "output_type": "execute_result"
    }
   ],
   "source": [
    "#STEP 5\n",
    "#Create a car that was sold, a truck that hasn't been sold, a motobike \n",
    "#that hasn't been sold\n",
    "my_car = Car(4, 35000, 'Honda', 'Civic', 2013, 8000)\n",
    "\n",
    "print(my_car.sold_on)\n",
    "\n",
    "print(my_car.sale_price())\n",
    "my_car.buyback_price()"
   ]
  },
  {
   "cell_type": "code",
   "execution_count": null,
   "metadata": {},
   "outputs": [],
   "source": []
  },
  {
   "cell_type": "code",
   "execution_count": null,
   "metadata": {},
   "outputs": [],
   "source": []
  }
 ],
 "metadata": {
  "kernelspec": {
   "display_name": "Python 3",
   "language": "python",
   "name": "python3"
  },
  "language_info": {
   "codemirror_mode": {
    "name": "ipython",
    "version": 3
   },
   "file_extension": ".py",
   "mimetype": "text/x-python",
   "name": "python",
   "nbconvert_exporter": "python",
   "pygments_lexer": "ipython3",
   "version": "3.6.8"
  }
 },
 "nbformat": 4,
 "nbformat_minor": 2
}
