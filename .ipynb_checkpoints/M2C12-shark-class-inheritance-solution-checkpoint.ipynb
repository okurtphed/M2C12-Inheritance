{
 "cells": [
  {
   "cell_type": "markdown",
   "metadata": {},
   "source": [
    "<img src=\"https://i.ytimg.com/vi/Z5r0uIUu1aA/hqdefault.jpg\">\n",
    "\n",
    "We can recylce code and prevent repetition through inheritance!\n",
    "\n",
    "Inheritance happens when a class utilizes code already existing in another class\n",
    "\n",
    "A child (or subclass) inheriets form a parent class (or base class)"
   ]
  },
  {
   "cell_type": "code",
   "execution_count": 1,
   "metadata": {},
   "outputs": [],
   "source": [
    "#shark.py\n",
    "\n",
    "#STEP 1\n",
    "#create a Shark class with attributes first_name and last_name (make sure if no last_name is given, default to \"Shark\")\n",
    "class Shark(object):\n",
    "    def __init__(self, first_name, last_name=\"Shark\", fins=8, eyelids=True):\n",
    "        self.first_name = first_name\n",
    "        self.last_name = last_name \n",
    "        self.fins = fins\n",
    "        self.eyelids = eyelids\n",
    "        \n",
    "    def swim(self):\n",
    "        return (\"{} {} swims with the duh duh music playing.\".format(self.first_name, self.last_name))\n",
    "        \n",
    "    def bite(self):\n",
    "        return (\"{} {} bites with its mouth/teeth.\".format(self.first_name, self.last_name))\n",
    "        "
   ]
  },
  {
   "cell_type": "code",
   "execution_count": 2,
   "metadata": {},
   "outputs": [],
   "source": [
    "#STEP 2\n",
    "#to the Shark class above, add two methods, swim and bite (each method should print a string representation of their \n",
    "#action)"
   ]
  },
  {
   "cell_type": "code",
   "execution_count": 3,
   "metadata": {},
   "outputs": [],
   "source": [
    "#STEP 3\n",
    "#to the Shark class above, add two attributes, fins (with a default of 8) and eyelids (with a default of True)\n",
    "#below, create an object instance and print out attributes/methods!"
   ]
  },
  {
   "cell_type": "code",
   "execution_count": 4,
   "metadata": {},
   "outputs": [
    {
     "name": "stdout",
     "output_type": "stream",
     "text": [
      "Tom Shark swims with the duh duh music playing.\n",
      "Tom Shark bites with its mouth/teeth.\n"
     ]
    }
   ],
   "source": [
    "shark = Shark('Tom')\n",
    "print(shark.swim())\n",
    "print(shark.bite())"
   ]
  },
  {
   "cell_type": "code",
   "execution_count": 5,
   "metadata": {},
   "outputs": [],
   "source": [
    "#STEP 4\n",
    "#create a new child class, Tiger_Shark which inherits from the parent class Shark"
   ]
  },
  {
   "cell_type": "code",
   "execution_count": 6,
   "metadata": {},
   "outputs": [],
   "source": [
    "class Tiger_Shark(Shark):\n",
    "    pass\n",
    "        "
   ]
  },
  {
   "cell_type": "code",
   "execution_count": 7,
   "metadata": {},
   "outputs": [],
   "source": [
    "#STEP 5\n",
    "#create an object instance.  Print out attributes/methods!"
   ]
  },
  {
   "cell_type": "code",
   "execution_count": 8,
   "metadata": {},
   "outputs": [
    {
     "name": "stdout",
     "output_type": "stream",
     "text": [
      "Hi i'm Terry Shark\n",
      "I have 8 fins\n",
      "True\n",
      "Terry Shark swims with the duh duh music playing.\n",
      "Terry Shark bites with its mouth/teeth.\n"
     ]
    }
   ],
   "source": [
    "terry = Tiger_Shark(\"Terry\")\n",
    "print(\"Hi i'm \" + terry.first_name + \" \" + terry.last_name)\n",
    "print(\"I have \" + str(terry.fins) + \" fins\")\n",
    "print(terry.eyelids)\n",
    "print(terry.swim())\n",
    "print(terry.bite())"
   ]
  },
  {
   "cell_type": "code",
   "execution_count": 9,
   "metadata": {},
   "outputs": [],
   "source": [
    "#STEP 6\n",
    "#create a new child class that has its own method "
   ]
  },
  {
   "cell_type": "code",
   "execution_count": 10,
   "metadata": {},
   "outputs": [],
   "source": [
    "class Greatwhite_Shark(Shark):\n",
    "    \n",
    "    def famous(self):\n",
    "        return (\"I'm the most famous shark, hey.\")"
   ]
  },
  {
   "cell_type": "code",
   "execution_count": 11,
   "metadata": {},
   "outputs": [],
   "source": [
    "#STEP 7\n",
    "#create an object instance.  Print out attributes/methods!"
   ]
  },
  {
   "cell_type": "code",
   "execution_count": 12,
   "metadata": {},
   "outputs": [
    {
     "name": "stdout",
     "output_type": "stream",
     "text": [
      "Hi i'm Jonny Shark\n",
      "Jonny Shark swims with the duh duh music playing.\n",
      "I'm the most famous shark, hey.\n"
     ]
    }
   ],
   "source": [
    "jonny = Greatwhite_Shark(\"Jonny\")\n",
    "print(\"Hi i'm \" + jonny.first_name + \" \" + jonny.last_name)\n",
    "print(jonny.swim())\n",
    "print(jonny.famous())"
   ]
  },
  {
   "cell_type": "code",
   "execution_count": 13,
   "metadata": {},
   "outputs": [],
   "source": [
    "#STEP 8\n",
    "#create a new child class that overrides parent methods/attributes"
   ]
  },
  {
   "cell_type": "code",
   "execution_count": 14,
   "metadata": {},
   "outputs": [],
   "source": [
    "class GMShark(Shark):\n",
    "    def __init__(self, first_name, last_name=\"#$h0RK2018\", fins=100, eyelids=False):\n",
    "        self.first_name = first_name\n",
    "        self.last_name = last_name\n",
    "        self.fins = fins\n",
    "        self.eyelids = eyelids\n",
    "        \n",
    "    def swim(self):\n",
    "        return (\"{} {} swims at top speeds and then swims in the air since its the future of Sharks!\".format(self.first_name, self.last_name))"
   ]
  },
  {
   "cell_type": "code",
   "execution_count": 15,
   "metadata": {},
   "outputs": [],
   "source": [
    "#STEP 9 \n",
    "#create an object instance.  Print out attributes/methods!"
   ]
  },
  {
   "cell_type": "code",
   "execution_count": 16,
   "metadata": {},
   "outputs": [
    {
     "name": "stdout",
     "output_type": "stream",
     "text": [
      "Sam #$h0RK2018\n",
      "Sam #$h0RK2018 swims at top speeds and then swims in the air since its the future of Sharks!\n",
      "Sam #$h0RK2018 bites with its mouth/teeth.\n",
      "100\n",
      "False\n"
     ]
    }
   ],
   "source": [
    "sam = GMShark(\"Sam\")\n",
    "print(sam.first_name + \" \" + sam.last_name)\n",
    "print(sam.swim())\n",
    "print(sam.bite())\n",
    "print(sam.fins)\n",
    "print(sam.eyelids)"
   ]
  },
  {
   "cell_type": "code",
   "execution_count": 17,
   "metadata": {},
   "outputs": [],
   "source": [
    "#STEP 10\n",
    "#Create a new child class Bull_Shark to demonstrate super() power"
   ]
  },
  {
   "cell_type": "code",
   "execution_count": 18,
   "metadata": {},
   "outputs": [],
   "source": [
    "class Bull_Shark(Shark):\n",
    "    def __init__(self, first_name, water=\"freshwater\"):\n",
    "        super(Bull_Shark, self).__init__(first_name)\n",
    "        self.water = water\n",
    "        self.dangerous = True"
   ]
  },
  {
   "cell_type": "code",
   "execution_count": 19,
   "metadata": {},
   "outputs": [],
   "source": [
    "#STEP 11\n",
    "#create an object instance.  Print out attributes/methods!"
   ]
  },
  {
   "cell_type": "code",
   "execution_count": 20,
   "metadata": {},
   "outputs": [
    {
     "name": "stdout",
     "output_type": "stream",
     "text": [
      "Tony\n",
      "Tony Shark\n",
      "True\n",
      "freshwater\n",
      "Tony Shark swims with the duh duh music playing.\n"
     ]
    }
   ],
   "source": [
    "tony = Bull_Shark('Tony')\n",
    "\n",
    "print(tony.first_name)\n",
    "\n",
    "print(tony.first_name + \" \" + tony.last_name)\n",
    "print(tony.eyelids)\n",
    "print(tony.water)\n",
    "print(tony.swim())"
   ]
  },
  {
   "cell_type": "code",
   "execution_count": 21,
   "metadata": {},
   "outputs": [],
   "source": [
    "#----------------------------------------------------------------------------------------------------------------------"
   ]
  },
  {
   "cell_type": "code",
   "execution_count": 22,
   "metadata": {},
   "outputs": [],
   "source": [
    "#in a seperate .py file, demonstrate multiple inheritance "
   ]
  },
  {
   "cell_type": "code",
   "execution_count": 23,
   "metadata": {},
   "outputs": [],
   "source": [
    "#collective_ocean.py \n",
    "\n",
    "class H20(object):\n",
    "    def composeH20(self):\n",
    "        return(\"Summon the power of water\")\n",
    "        \n",
    "class NACL(object):\n",
    "    def composeNACL(self):\n",
    "        return(\"Summon the power of salt\")\n",
    "    \n",
    "class Ocean(H20, NACL):\n",
    "    pass"
   ]
  },
  {
   "cell_type": "code",
   "execution_count": 24,
   "metadata": {},
   "outputs": [
    {
     "name": "stdout",
     "output_type": "stream",
     "text": [
      "Summon the power of water\n",
      "Summon the power of salt\n"
     ]
    }
   ],
   "source": [
    "pacific = Ocean()\n",
    "print(pacific.composeH20())\n",
    "print(pacific.composeNACL())"
   ]
  },
  {
   "cell_type": "code",
   "execution_count": null,
   "metadata": {},
   "outputs": [],
   "source": []
  }
 ],
 "metadata": {
  "kernelspec": {
   "display_name": "Python 3",
   "language": "python",
   "name": "python3"
  },
  "language_info": {
   "codemirror_mode": {
    "name": "ipython",
    "version": 2
   },
   "file_extension": ".py",
   "mimetype": "text/x-python",
   "name": "python",
   "nbconvert_exporter": "python",
   "pygments_lexer": "ipython2",
   "version": "2.7.14"
  }
 },
 "nbformat": 4,
 "nbformat_minor": 2
}
